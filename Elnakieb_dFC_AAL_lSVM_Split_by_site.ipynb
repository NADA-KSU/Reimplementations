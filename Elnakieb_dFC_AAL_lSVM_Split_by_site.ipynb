{
 "cells": [
  {
   "cell_type": "code",
   "execution_count": 1,
   "id": "19a12800",
   "metadata": {},
   "outputs": [],
   "source": [
    "import numpy as np\n",
    "import pandas as pd\n",
    "\n",
    "phenotypic_path = \"D:\\\\AbideI\\\\phenotypic.csv\"\n",
    "dFC_path = \"D:\\\\AbideI\\\\ProcessedData\\\\corr\\\\dFC.csv\"\n",
    "\n",
    "dFC = pd.read_csv(dFC_path)\n",
    "phenotypic = pd.read_csv(phenotypic_path)\n",
    "\n",
    "x = dFC.iloc[: , 1:]\n",
    "y = phenotypic['DX_GROUP']"
   ]
  },
  {
   "cell_type": "code",
   "execution_count": 2,
   "id": "b83aa832",
   "metadata": {},
   "outputs": [
    {
     "data": {
      "text/html": [
       "<div>\n",
       "<style scoped>\n",
       "    .dataframe tbody tr th:only-of-type {\n",
       "        vertical-align: middle;\n",
       "    }\n",
       "\n",
       "    .dataframe tbody tr th {\n",
       "        vertical-align: top;\n",
       "    }\n",
       "\n",
       "    .dataframe thead th {\n",
       "        text-align: right;\n",
       "    }\n",
       "</style>\n",
       "<table border=\"1\" class=\"dataframe\">\n",
       "  <thead>\n",
       "    <tr style=\"text-align: right;\">\n",
       "      <th></th>\n",
       "      <th>Precentral_L__Precentral_R_wk</th>\n",
       "      <th>Precentral_L__Precentral_R_st</th>\n",
       "      <th>Precentral_L__Frontal_Sup_L_wk</th>\n",
       "      <th>Precentral_L__Frontal_Sup_L_st</th>\n",
       "      <th>Precentral_L__Frontal_Sup_R_wk</th>\n",
       "      <th>Precentral_L__Frontal_Sup_R_st</th>\n",
       "      <th>Precentral_L__Frontal_Sup_Orb_L_wk</th>\n",
       "      <th>Precentral_L__Frontal_Sup_Orb_L_st</th>\n",
       "      <th>Precentral_L__Frontal_Sup_Orb_R_wk</th>\n",
       "      <th>Precentral_L__Frontal_Sup_Orb_R_st</th>\n",
       "      <th>...</th>\n",
       "      <th>Vermis_7__Vermis_9_wk</th>\n",
       "      <th>Vermis_7__Vermis_9_st</th>\n",
       "      <th>Vermis_7__Vermis_10_wk</th>\n",
       "      <th>Vermis_7__Vermis_10_st</th>\n",
       "      <th>Vermis_8__Vermis_9_wk</th>\n",
       "      <th>Vermis_8__Vermis_9_st</th>\n",
       "      <th>Vermis_8__Vermis_10_wk</th>\n",
       "      <th>Vermis_8__Vermis_10_st</th>\n",
       "      <th>Vermis_9__Vermis_10_wk</th>\n",
       "      <th>Vermis_9__Vermis_10_st</th>\n",
       "    </tr>\n",
       "  </thead>\n",
       "  <tbody>\n",
       "    <tr>\n",
       "      <th>0</th>\n",
       "      <td>0.144</td>\n",
       "      <td>0.168</td>\n",
       "      <td>0.240</td>\n",
       "      <td>0.112</td>\n",
       "      <td>0.368</td>\n",
       "      <td>0.016</td>\n",
       "      <td>0.280</td>\n",
       "      <td>0.064</td>\n",
       "      <td>0.432</td>\n",
       "      <td>0.000</td>\n",
       "      <td>...</td>\n",
       "      <td>0.256</td>\n",
       "      <td>0.064</td>\n",
       "      <td>0.264</td>\n",
       "      <td>0.12</td>\n",
       "      <td>0.000</td>\n",
       "      <td>0.520</td>\n",
       "      <td>0.008</td>\n",
       "      <td>0.240</td>\n",
       "      <td>0.032</td>\n",
       "      <td>0.472</td>\n",
       "    </tr>\n",
       "    <tr>\n",
       "      <th>1</th>\n",
       "      <td>0.176</td>\n",
       "      <td>0.184</td>\n",
       "      <td>0.216</td>\n",
       "      <td>0.088</td>\n",
       "      <td>0.336</td>\n",
       "      <td>0.152</td>\n",
       "      <td>0.456</td>\n",
       "      <td>0.000</td>\n",
       "      <td>0.408</td>\n",
       "      <td>0.088</td>\n",
       "      <td>...</td>\n",
       "      <td>0.328</td>\n",
       "      <td>0.112</td>\n",
       "      <td>0.416</td>\n",
       "      <td>0.08</td>\n",
       "      <td>0.272</td>\n",
       "      <td>0.048</td>\n",
       "      <td>0.256</td>\n",
       "      <td>0.024</td>\n",
       "      <td>0.376</td>\n",
       "      <td>0.000</td>\n",
       "    </tr>\n",
       "    <tr>\n",
       "      <th>2</th>\n",
       "      <td>0.240</td>\n",
       "      <td>0.112</td>\n",
       "      <td>0.456</td>\n",
       "      <td>0.000</td>\n",
       "      <td>0.256</td>\n",
       "      <td>0.104</td>\n",
       "      <td>0.464</td>\n",
       "      <td>0.000</td>\n",
       "      <td>0.320</td>\n",
       "      <td>0.040</td>\n",
       "      <td>...</td>\n",
       "      <td>0.096</td>\n",
       "      <td>0.056</td>\n",
       "      <td>0.328</td>\n",
       "      <td>0.00</td>\n",
       "      <td>0.016</td>\n",
       "      <td>0.520</td>\n",
       "      <td>0.112</td>\n",
       "      <td>0.312</td>\n",
       "      <td>0.048</td>\n",
       "      <td>0.488</td>\n",
       "    </tr>\n",
       "    <tr>\n",
       "      <th>3</th>\n",
       "      <td>0.368</td>\n",
       "      <td>0.040</td>\n",
       "      <td>0.456</td>\n",
       "      <td>0.008</td>\n",
       "      <td>0.328</td>\n",
       "      <td>0.064</td>\n",
       "      <td>0.552</td>\n",
       "      <td>0.000</td>\n",
       "      <td>0.432</td>\n",
       "      <td>0.008</td>\n",
       "      <td>...</td>\n",
       "      <td>0.544</td>\n",
       "      <td>0.000</td>\n",
       "      <td>0.464</td>\n",
       "      <td>0.00</td>\n",
       "      <td>0.048</td>\n",
       "      <td>0.176</td>\n",
       "      <td>0.096</td>\n",
       "      <td>0.192</td>\n",
       "      <td>0.040</td>\n",
       "      <td>0.816</td>\n",
       "    </tr>\n",
       "    <tr>\n",
       "      <th>4</th>\n",
       "      <td>0.192</td>\n",
       "      <td>0.088</td>\n",
       "      <td>0.344</td>\n",
       "      <td>0.080</td>\n",
       "      <td>0.256</td>\n",
       "      <td>0.024</td>\n",
       "      <td>0.272</td>\n",
       "      <td>0.080</td>\n",
       "      <td>0.496</td>\n",
       "      <td>0.000</td>\n",
       "      <td>...</td>\n",
       "      <td>0.000</td>\n",
       "      <td>0.000</td>\n",
       "      <td>0.416</td>\n",
       "      <td>0.00</td>\n",
       "      <td>0.000</td>\n",
       "      <td>0.000</td>\n",
       "      <td>0.288</td>\n",
       "      <td>0.000</td>\n",
       "      <td>0.000</td>\n",
       "      <td>0.000</td>\n",
       "    </tr>\n",
       "  </tbody>\n",
       "</table>\n",
       "<p>5 rows × 13340 columns</p>\n",
       "</div>"
      ],
      "text/plain": [
       "   Precentral_L__Precentral_R_wk  Precentral_L__Precentral_R_st  \\\n",
       "0                          0.144                          0.168   \n",
       "1                          0.176                          0.184   \n",
       "2                          0.240                          0.112   \n",
       "3                          0.368                          0.040   \n",
       "4                          0.192                          0.088   \n",
       "\n",
       "   Precentral_L__Frontal_Sup_L_wk  Precentral_L__Frontal_Sup_L_st  \\\n",
       "0                           0.240                           0.112   \n",
       "1                           0.216                           0.088   \n",
       "2                           0.456                           0.000   \n",
       "3                           0.456                           0.008   \n",
       "4                           0.344                           0.080   \n",
       "\n",
       "   Precentral_L__Frontal_Sup_R_wk  Precentral_L__Frontal_Sup_R_st  \\\n",
       "0                           0.368                           0.016   \n",
       "1                           0.336                           0.152   \n",
       "2                           0.256                           0.104   \n",
       "3                           0.328                           0.064   \n",
       "4                           0.256                           0.024   \n",
       "\n",
       "   Precentral_L__Frontal_Sup_Orb_L_wk  Precentral_L__Frontal_Sup_Orb_L_st  \\\n",
       "0                               0.280                               0.064   \n",
       "1                               0.456                               0.000   \n",
       "2                               0.464                               0.000   \n",
       "3                               0.552                               0.000   \n",
       "4                               0.272                               0.080   \n",
       "\n",
       "   Precentral_L__Frontal_Sup_Orb_R_wk  Precentral_L__Frontal_Sup_Orb_R_st  \\\n",
       "0                               0.432                               0.000   \n",
       "1                               0.408                               0.088   \n",
       "2                               0.320                               0.040   \n",
       "3                               0.432                               0.008   \n",
       "4                               0.496                               0.000   \n",
       "\n",
       "   ...  Vermis_7__Vermis_9_wk  Vermis_7__Vermis_9_st  Vermis_7__Vermis_10_wk  \\\n",
       "0  ...                  0.256                  0.064                   0.264   \n",
       "1  ...                  0.328                  0.112                   0.416   \n",
       "2  ...                  0.096                  0.056                   0.328   \n",
       "3  ...                  0.544                  0.000                   0.464   \n",
       "4  ...                  0.000                  0.000                   0.416   \n",
       "\n",
       "   Vermis_7__Vermis_10_st  Vermis_8__Vermis_9_wk  Vermis_8__Vermis_9_st  \\\n",
       "0                    0.12                  0.000                  0.520   \n",
       "1                    0.08                  0.272                  0.048   \n",
       "2                    0.00                  0.016                  0.520   \n",
       "3                    0.00                  0.048                  0.176   \n",
       "4                    0.00                  0.000                  0.000   \n",
       "\n",
       "   Vermis_8__Vermis_10_wk  Vermis_8__Vermis_10_st  Vermis_9__Vermis_10_wk  \\\n",
       "0                   0.008                   0.240                   0.032   \n",
       "1                   0.256                   0.024                   0.376   \n",
       "2                   0.112                   0.312                   0.048   \n",
       "3                   0.096                   0.192                   0.040   \n",
       "4                   0.288                   0.000                   0.000   \n",
       "\n",
       "   Vermis_9__Vermis_10_st  \n",
       "0                   0.472  \n",
       "1                   0.000  \n",
       "2                   0.488  \n",
       "3                   0.816  \n",
       "4                   0.000  \n",
       "\n",
       "[5 rows x 13340 columns]"
      ]
     },
     "execution_count": 2,
     "metadata": {},
     "output_type": "execute_result"
    }
   ],
   "source": [
    "x.head()"
   ]
  },
  {
   "cell_type": "code",
   "execution_count": 3,
   "id": "2b19dabb",
   "metadata": {},
   "outputs": [
    {
     "data": {
      "text/plain": [
       "0    1\n",
       "1    1\n",
       "2    1\n",
       "3    1\n",
       "4    1\n",
       "Name: DX_GROUP, dtype: int64"
      ]
     },
     "execution_count": 3,
     "metadata": {},
     "output_type": "execute_result"
    }
   ],
   "source": [
    "y.head()"
   ]
  },
  {
   "cell_type": "code",
   "execution_count": 4,
   "id": "928c7a7a",
   "metadata": {},
   "outputs": [],
   "source": [
    "from sklearn.feature_selection import GenericUnivariateSelect, SelectKBest, f_classif\n",
    "# Step 1: \n",
    "selector = SelectKBest(f_classif, k = x.shape[1]//4)\n",
    "X_selected = selector.fit_transform(x, y)"
   ]
  },
  {
   "cell_type": "code",
   "execution_count": 5,
   "id": "d96edd4a",
   "metadata": {},
   "outputs": [
    {
     "data": {
      "text/plain": [
       "(884, 3335)"
      ]
     },
     "execution_count": 5,
     "metadata": {},
     "output_type": "execute_result"
    }
   ],
   "source": [
    "X_selected.shape"
   ]
  },
  {
   "cell_type": "code",
   "execution_count": 6,
   "id": "7f4025e4",
   "metadata": {},
   "outputs": [],
   "source": [
    "nFeatures = pd.read_csv(\"D:\\\\AbideI\\\\S4.csv\")['feat_name']"
   ]
  },
  {
   "cell_type": "code",
   "execution_count": 7,
   "id": "80f5318f",
   "metadata": {},
   "outputs": [
    {
     "data": {
      "text/plain": [
       "0        Precentral_L__Rolandic_Oper_R_wk\n",
       "1      Precentral_L__Supp_Motor_Area_L_st\n",
       "2             Precentral_L__Fusiform_L_wk\n",
       "3         Precentral_L__Parietal_Inf_L_wk\n",
       "4        Precentral_L__SupraMarginal_R_st\n",
       "                      ...                \n",
       "835            Cerebelum_9_R__Vermis_9_wk\n",
       "836     Cerebelum_10_L__Cerebelum_10_R_st\n",
       "837          Cerebelum_10_R__Vermis_10_wk\n",
       "838               Vermis_1_2__Vermis_3_st\n",
       "839                 Vermis_7__Vermis_9_wk\n",
       "Name: feat_name, Length: 840, dtype: object"
      ]
     },
     "execution_count": 7,
     "metadata": {},
     "output_type": "execute_result"
    }
   ],
   "source": [
    "nFeatures"
   ]
  },
  {
   "cell_type": "code",
   "execution_count": 8,
   "id": "ac922720",
   "metadata": {},
   "outputs": [],
   "source": [
    "df = pd.DataFrame(columns=nFeatures)"
   ]
  },
  {
   "cell_type": "code",
   "execution_count": 9,
   "id": "ded7fafb",
   "metadata": {},
   "outputs": [],
   "source": [
    "selected_columns = df.columns"
   ]
  },
  {
   "cell_type": "code",
   "execution_count": 10,
   "id": "7d17aa51",
   "metadata": {},
   "outputs": [],
   "source": [
    "data = x[selected_columns].copy()"
   ]
  },
  {
   "cell_type": "code",
   "execution_count": 11,
   "id": "9d2edc40",
   "metadata": {},
   "outputs": [
    {
     "data": {
      "text/html": [
       "<div>\n",
       "<style scoped>\n",
       "    .dataframe tbody tr th:only-of-type {\n",
       "        vertical-align: middle;\n",
       "    }\n",
       "\n",
       "    .dataframe tbody tr th {\n",
       "        vertical-align: top;\n",
       "    }\n",
       "\n",
       "    .dataframe thead th {\n",
       "        text-align: right;\n",
       "    }\n",
       "</style>\n",
       "<table border=\"1\" class=\"dataframe\">\n",
       "  <thead>\n",
       "    <tr style=\"text-align: right;\">\n",
       "      <th></th>\n",
       "      <th>Precentral_L__Rolandic_Oper_R_wk</th>\n",
       "      <th>Precentral_L__Supp_Motor_Area_L_st</th>\n",
       "      <th>Precentral_L__Fusiform_L_wk</th>\n",
       "      <th>Precentral_L__Parietal_Inf_L_wk</th>\n",
       "      <th>Precentral_L__SupraMarginal_R_st</th>\n",
       "      <th>Precentral_L__Precuneus_R_wk</th>\n",
       "      <th>Precentral_L__Temporal_Sup_L_wk</th>\n",
       "      <th>Precentral_L__Temporal_Pole_Sup_R_wk</th>\n",
       "      <th>Precentral_L__Cerebelum_Crus2_R_wk</th>\n",
       "      <th>Precentral_R__Frontal_Inf_Tri_L_wk</th>\n",
       "      <th>...</th>\n",
       "      <th>Cerebelum_8_R__Vermis_8_st</th>\n",
       "      <th>Cerebelum_8_R__Vermis_9_st</th>\n",
       "      <th>Cerebelum_9_L__Vermis_4_5_wk</th>\n",
       "      <th>Cerebelum_9_L__Vermis_9_st</th>\n",
       "      <th>Cerebelum_9_L__Vermis_10_wk</th>\n",
       "      <th>Cerebelum_9_R__Vermis_9_wk</th>\n",
       "      <th>Cerebelum_10_L__Cerebelum_10_R_st</th>\n",
       "      <th>Cerebelum_10_R__Vermis_10_wk</th>\n",
       "      <th>Vermis_1_2__Vermis_3_st</th>\n",
       "      <th>Vermis_7__Vermis_9_wk</th>\n",
       "    </tr>\n",
       "  </thead>\n",
       "  <tbody>\n",
       "    <tr>\n",
       "      <th>0</th>\n",
       "      <td>0.408</td>\n",
       "      <td>0.104</td>\n",
       "      <td>0.352</td>\n",
       "      <td>0.184</td>\n",
       "      <td>0.040</td>\n",
       "      <td>0.448</td>\n",
       "      <td>0.368</td>\n",
       "      <td>0.472</td>\n",
       "      <td>0.448</td>\n",
       "      <td>0.320</td>\n",
       "      <td>...</td>\n",
       "      <td>0.448</td>\n",
       "      <td>0.448</td>\n",
       "      <td>0.360</td>\n",
       "      <td>0.128</td>\n",
       "      <td>0.376</td>\n",
       "      <td>0.0</td>\n",
       "      <td>0.032</td>\n",
       "      <td>0.192</td>\n",
       "      <td>0.016</td>\n",
       "      <td>0.256</td>\n",
       "    </tr>\n",
       "    <tr>\n",
       "      <th>1</th>\n",
       "      <td>0.344</td>\n",
       "      <td>0.000</td>\n",
       "      <td>0.392</td>\n",
       "      <td>0.224</td>\n",
       "      <td>0.168</td>\n",
       "      <td>0.464</td>\n",
       "      <td>0.376</td>\n",
       "      <td>0.448</td>\n",
       "      <td>0.368</td>\n",
       "      <td>0.368</td>\n",
       "      <td>...</td>\n",
       "      <td>0.160</td>\n",
       "      <td>0.144</td>\n",
       "      <td>0.392</td>\n",
       "      <td>0.104</td>\n",
       "      <td>0.248</td>\n",
       "      <td>0.2</td>\n",
       "      <td>0.032</td>\n",
       "      <td>0.472</td>\n",
       "      <td>0.000</td>\n",
       "      <td>0.328</td>\n",
       "    </tr>\n",
       "    <tr>\n",
       "      <th>2</th>\n",
       "      <td>0.248</td>\n",
       "      <td>0.032</td>\n",
       "      <td>0.488</td>\n",
       "      <td>0.208</td>\n",
       "      <td>0.128</td>\n",
       "      <td>0.328</td>\n",
       "      <td>0.376</td>\n",
       "      <td>0.344</td>\n",
       "      <td>0.560</td>\n",
       "      <td>0.192</td>\n",
       "      <td>...</td>\n",
       "      <td>0.672</td>\n",
       "      <td>0.712</td>\n",
       "      <td>0.520</td>\n",
       "      <td>0.000</td>\n",
       "      <td>0.472</td>\n",
       "      <td>0.0</td>\n",
       "      <td>0.000</td>\n",
       "      <td>0.000</td>\n",
       "      <td>0.000</td>\n",
       "      <td>0.096</td>\n",
       "    </tr>\n",
       "    <tr>\n",
       "      <th>3</th>\n",
       "      <td>0.376</td>\n",
       "      <td>0.168</td>\n",
       "      <td>0.272</td>\n",
       "      <td>0.288</td>\n",
       "      <td>0.008</td>\n",
       "      <td>0.296</td>\n",
       "      <td>0.448</td>\n",
       "      <td>0.256</td>\n",
       "      <td>0.456</td>\n",
       "      <td>0.184</td>\n",
       "      <td>...</td>\n",
       "      <td>0.608</td>\n",
       "      <td>0.120</td>\n",
       "      <td>0.256</td>\n",
       "      <td>0.488</td>\n",
       "      <td>0.032</td>\n",
       "      <td>0.0</td>\n",
       "      <td>0.000</td>\n",
       "      <td>0.416</td>\n",
       "      <td>0.312</td>\n",
       "      <td>0.544</td>\n",
       "    </tr>\n",
       "    <tr>\n",
       "      <th>4</th>\n",
       "      <td>0.488</td>\n",
       "      <td>0.080</td>\n",
       "      <td>0.504</td>\n",
       "      <td>0.056</td>\n",
       "      <td>0.000</td>\n",
       "      <td>0.312</td>\n",
       "      <td>0.528</td>\n",
       "      <td>0.440</td>\n",
       "      <td>0.392</td>\n",
       "      <td>0.248</td>\n",
       "      <td>...</td>\n",
       "      <td>0.000</td>\n",
       "      <td>0.000</td>\n",
       "      <td>0.344</td>\n",
       "      <td>0.000</td>\n",
       "      <td>0.488</td>\n",
       "      <td>0.0</td>\n",
       "      <td>0.000</td>\n",
       "      <td>0.416</td>\n",
       "      <td>0.096</td>\n",
       "      <td>0.000</td>\n",
       "    </tr>\n",
       "  </tbody>\n",
       "</table>\n",
       "<p>5 rows × 840 columns</p>\n",
       "</div>"
      ],
      "text/plain": [
       "   Precentral_L__Rolandic_Oper_R_wk  Precentral_L__Supp_Motor_Area_L_st  \\\n",
       "0                             0.408                               0.104   \n",
       "1                             0.344                               0.000   \n",
       "2                             0.248                               0.032   \n",
       "3                             0.376                               0.168   \n",
       "4                             0.488                               0.080   \n",
       "\n",
       "   Precentral_L__Fusiform_L_wk  Precentral_L__Parietal_Inf_L_wk  \\\n",
       "0                        0.352                            0.184   \n",
       "1                        0.392                            0.224   \n",
       "2                        0.488                            0.208   \n",
       "3                        0.272                            0.288   \n",
       "4                        0.504                            0.056   \n",
       "\n",
       "   Precentral_L__SupraMarginal_R_st  Precentral_L__Precuneus_R_wk  \\\n",
       "0                             0.040                         0.448   \n",
       "1                             0.168                         0.464   \n",
       "2                             0.128                         0.328   \n",
       "3                             0.008                         0.296   \n",
       "4                             0.000                         0.312   \n",
       "\n",
       "   Precentral_L__Temporal_Sup_L_wk  Precentral_L__Temporal_Pole_Sup_R_wk  \\\n",
       "0                            0.368                                 0.472   \n",
       "1                            0.376                                 0.448   \n",
       "2                            0.376                                 0.344   \n",
       "3                            0.448                                 0.256   \n",
       "4                            0.528                                 0.440   \n",
       "\n",
       "   Precentral_L__Cerebelum_Crus2_R_wk  Precentral_R__Frontal_Inf_Tri_L_wk  \\\n",
       "0                               0.448                               0.320   \n",
       "1                               0.368                               0.368   \n",
       "2                               0.560                               0.192   \n",
       "3                               0.456                               0.184   \n",
       "4                               0.392                               0.248   \n",
       "\n",
       "   ...  Cerebelum_8_R__Vermis_8_st  Cerebelum_8_R__Vermis_9_st  \\\n",
       "0  ...                       0.448                       0.448   \n",
       "1  ...                       0.160                       0.144   \n",
       "2  ...                       0.672                       0.712   \n",
       "3  ...                       0.608                       0.120   \n",
       "4  ...                       0.000                       0.000   \n",
       "\n",
       "   Cerebelum_9_L__Vermis_4_5_wk  Cerebelum_9_L__Vermis_9_st  \\\n",
       "0                         0.360                       0.128   \n",
       "1                         0.392                       0.104   \n",
       "2                         0.520                       0.000   \n",
       "3                         0.256                       0.488   \n",
       "4                         0.344                       0.000   \n",
       "\n",
       "   Cerebelum_9_L__Vermis_10_wk  Cerebelum_9_R__Vermis_9_wk  \\\n",
       "0                        0.376                         0.0   \n",
       "1                        0.248                         0.2   \n",
       "2                        0.472                         0.0   \n",
       "3                        0.032                         0.0   \n",
       "4                        0.488                         0.0   \n",
       "\n",
       "   Cerebelum_10_L__Cerebelum_10_R_st  Cerebelum_10_R__Vermis_10_wk  \\\n",
       "0                              0.032                         0.192   \n",
       "1                              0.032                         0.472   \n",
       "2                              0.000                         0.000   \n",
       "3                              0.000                         0.416   \n",
       "4                              0.000                         0.416   \n",
       "\n",
       "   Vermis_1_2__Vermis_3_st  Vermis_7__Vermis_9_wk  \n",
       "0                    0.016                  0.256  \n",
       "1                    0.000                  0.328  \n",
       "2                    0.000                  0.096  \n",
       "3                    0.312                  0.544  \n",
       "4                    0.096                  0.000  \n",
       "\n",
       "[5 rows x 840 columns]"
      ]
     },
     "execution_count": 11,
     "metadata": {},
     "output_type": "execute_result"
    }
   ],
   "source": [
    "data.head()"
   ]
  },
  {
   "cell_type": "code",
   "execution_count": 12,
   "id": "c564fa17",
   "metadata": {},
   "outputs": [],
   "source": [
    "from sklearn.feature_selection import RFECV\n",
    "from sklearn.model_selection import cross_val_score, GridSearchCV, StratifiedKFold\n",
    "from sklearn.svm import LinearSVC\n",
    "import time \n",
    "import os"
   ]
  },
  {
   "cell_type": "code",
   "execution_count": 13,
   "id": "b9c666a0",
   "metadata": {},
   "outputs": [
    {
     "name": "stdout",
     "output_type": "stream",
     "text": [
      "Best LinearSVM Classifier: LinearSVC(C=10, dual='auto', max_iter=8000)\n",
      "Best Hyperparameters: {'C': 10}\n",
      "Mean Cross-Validated Score: 0.9611143401638694 for Hyperparameters: {'C': 0.1}\n",
      "Mean Cross-Validated Score: 0.9703889423762659 for Hyperparameters: {'C': 0.2}\n",
      "Mean Cross-Validated Score: 0.9751151662466917 for Hyperparameters: {'C': 0.3}\n",
      "Mean Cross-Validated Score: 0.9812578943406394 for Hyperparameters: {'C': 0.4}\n",
      "Mean Cross-Validated Score: 0.9824924622418738 for Hyperparameters: {'C': 0.5}\n",
      "Mean Cross-Validated Score: 0.9837270301431085 for Hyperparameters: {'C': 0.6}\n",
      "Mean Cross-Validated Score: 0.9837270301431085 for Hyperparameters: {'C': 0.7}\n",
      "Mean Cross-Validated Score: 0.9847686968097751 for Hyperparameters: {'C': 0.8}\n",
      "Mean Cross-Validated Score: 0.9860032647110095 for Hyperparameters: {'C': 0.9}\n",
      "Mean Cross-Validated Score: 0.9860032647110095 for Hyperparameters: {'C': 1}\n",
      "Mean Cross-Validated Score: 0.988275408485079 for Hyperparameters: {'C': 10}\n",
      "Mean Cross-Validated Score: 0.988275408485079 for Hyperparameters: {'C': 100}\n"
     ]
    }
   ],
   "source": [
    "linear_svm_classifier = LinearSVC(dual='auto', max_iter= 8000)\n",
    "param_grid = {'C': [0.1, 0.2, 0.3, 0.4, 0.5, 0.6, 0.7, 0.8, 0.9, 1, 10, 100]}\n",
    "cv = StratifiedKFold(5, shuffle=True, random_state=123)\n",
    "grid_search = GridSearchCV(linear_svm_classifier, param_grid, cv=cv, scoring='balanced_accuracy')\n",
    "grid_search.fit(data, y)\n",
    "\n",
    "best_linear_svm_classifier = grid_search.best_estimator_\n",
    "best_params = grid_search.best_params_\n",
    "\n",
    "\n",
    "print(f\"Best LinearSVM Classifier: {best_linear_svm_classifier}\")\n",
    "print(f\"Best Hyperparameters: {best_params}\")\n",
    "\n",
    "cv_results = grid_search.cv_results_\n",
    "for mean_score, params in zip(cv_results['mean_test_score'], cv_results['params']):\n",
    "    print(f\"Mean Cross-Validated Score: {mean_score} for Hyperparameters: {params}\")"
   ]
  },
  {
   "cell_type": "code",
   "execution_count": null,
   "id": "848a8e08",
   "metadata": {},
   "outputs": [],
   "source": []
  },
  {
   "cell_type": "markdown",
   "id": "9b3bdde7",
   "metadata": {},
   "source": [
    "Split by site"
   ]
  },
  {
   "cell_type": "code",
   "execution_count": 14,
   "id": "71935606",
   "metadata": {},
   "outputs": [],
   "source": [
    "def extract_site(entry):\n",
    "    site = entry.split('\\\\')[-1].split('_')[0]\n",
    "    return site"
   ]
  },
  {
   "cell_type": "code",
   "execution_count": 15,
   "id": "f79ba995",
   "metadata": {},
   "outputs": [
    {
     "data": {
      "text/plain": [
       "0      Caltech\n",
       "1      Caltech\n",
       "2      Caltech\n",
       "3      Caltech\n",
       "4      Caltech\n",
       "        ...   \n",
       "879       Yale\n",
       "880       Yale\n",
       "881       Yale\n",
       "882       Yale\n",
       "883       Yale\n",
       "Name: Unnamed: 0, Length: 884, dtype: object"
      ]
     },
     "execution_count": 15,
     "metadata": {},
     "output_type": "execute_result"
    }
   ],
   "source": [
    "sites = pd.read_csv(dFC_path).iloc[: , 0].apply(extract_site)\n",
    "sites"
   ]
  },
  {
   "cell_type": "code",
   "execution_count": 16,
   "id": "c19784b3",
   "metadata": {},
   "outputs": [],
   "source": [
    "X = data\n",
    "if len(X) == len(sites):\n",
    "    sites_reshaped = sites.values.reshape(-1, 1)\n",
    "    X_with_site = np.concatenate((X, sites_reshaped), axis=1)"
   ]
  },
  {
   "cell_type": "code",
   "execution_count": 17,
   "id": "c83c8319",
   "metadata": {},
   "outputs": [
    {
     "name": "stdout",
     "output_type": "stream",
     "text": [
      "<class 'numpy.ndarray'>\n"
     ]
    }
   ],
   "source": [
    "print(type(X_with_site)) "
   ]
  },
  {
   "cell_type": "code",
   "execution_count": 18,
   "id": "d8ff64e2",
   "metadata": {},
   "outputs": [
    {
     "data": {
      "text/plain": [
       "array([[0.408, 0.104, 0.352, ..., 0.016, 0.256, 'Caltech'],\n",
       "       [0.344, 0.0, 0.392, ..., 0.0, 0.328, 'Caltech'],\n",
       "       [0.248, 0.032, 0.488, ..., 0.0, 0.096, 'Caltech'],\n",
       "       ...,\n",
       "       [0.2628571428571428, 0.0742857142857142, 0.3885714285714285, ...,\n",
       "        0.0228571428571428, 0.4114285714285714, 'Yale'],\n",
       "       [0.3542857142857142, 0.0685714285714285, 0.4285714285714285, ...,\n",
       "        0.0285714285714285, 0.4228571428571429, 'Yale'],\n",
       "       [0.3142857142857143, 0.0971428571428571, 0.4342857142857143, ...,\n",
       "        0.0, 0.2285714285714285, 'Yale']], dtype=object)"
      ]
     },
     "execution_count": 18,
     "metadata": {},
     "output_type": "execute_result"
    }
   ],
   "source": [
    "X_with_site"
   ]
  },
  {
   "cell_type": "code",
   "execution_count": 19,
   "id": "6ddf2b94",
   "metadata": {},
   "outputs": [
    {
     "data": {
      "text/plain": [
       "841"
      ]
     },
     "execution_count": 19,
     "metadata": {},
     "output_type": "execute_result"
    }
   ],
   "source": [
    "X_with_site.shape[1]"
   ]
  },
  {
   "cell_type": "code",
   "execution_count": 20,
   "id": "6d1a0319",
   "metadata": {},
   "outputs": [
    {
     "data": {
      "text/plain": [
       "884"
      ]
     },
     "execution_count": 20,
     "metadata": {},
     "output_type": "execute_result"
    }
   ],
   "source": [
    "X_with_site.shape[0]"
   ]
  },
  {
   "cell_type": "code",
   "execution_count": 21,
   "id": "27749a55",
   "metadata": {},
   "outputs": [],
   "source": [
    "unique_sites = np.unique(X_with_site[:,-1])"
   ]
  },
  {
   "cell_type": "code",
   "execution_count": 22,
   "id": "6acfd9a7",
   "metadata": {},
   "outputs": [
    {
     "data": {
      "text/plain": [
       "array(['CMU', 'Caltech', 'KKI', 'Leuven', 'MaxMun', 'NYU', 'OHSU', 'Olin',\n",
       "       'Pitt', 'SBL', 'SDSU', 'Stanford', 'Trinity', 'UCLA', 'UM', 'USM',\n",
       "       'Yale'], dtype=object)"
      ]
     },
     "execution_count": 22,
     "metadata": {},
     "output_type": "execute_result"
    }
   ],
   "source": [
    "unique_sites"
   ]
  },
  {
   "cell_type": "code",
   "execution_count": 23,
   "id": "35354a15",
   "metadata": {},
   "outputs": [],
   "source": [
    "X = X_with_site[:, :-1]\n",
    "site = X_with_site[:,-1]"
   ]
  },
  {
   "cell_type": "code",
   "execution_count": 25,
   "id": "de659a5e",
   "metadata": {},
   "outputs": [],
   "source": [
    "from sklearn.model_selection import train_test_split\n",
    "train_sites, test_sites = train_test_split(unique_sites, test_size=2, random_state=42)"
   ]
  },
  {
   "cell_type": "code",
   "execution_count": 26,
   "id": "baa3c316",
   "metadata": {},
   "outputs": [],
   "source": [
    "train_mask = np.isin(site, train_sites)\n",
    "test_mask = np.isin(site, test_sites)"
   ]
  },
  {
   "cell_type": "code",
   "execution_count": 27,
   "id": "ba8f65e1",
   "metadata": {
    "scrolled": true
   },
   "outputs": [
    {
     "data": {
      "text/plain": [
       "array([False, False, False, False, False, False, False, False, False,\n",
       "       False, False, False, False, False, False, False, False, False,\n",
       "       False, False, False, False, False, False, False, False, False,\n",
       "       False, False, False, False, False, False, False, False, False,\n",
       "       False, False, False, False, False, False,  True,  True,  True,\n",
       "        True,  True,  True,  True,  True,  True,  True,  True,  True,\n",
       "        True,  True,  True,  True,  True,  True,  True,  True,  True,\n",
       "        True,  True,  True,  True,  True,  True,  True,  True,  True,\n",
       "        True,  True,  True,  True,  True,  True,  True,  True,  True,\n",
       "        True,  True,  True,  True,  True,  True,  True,  True,  True,\n",
       "        True,  True,  True,  True,  True,  True,  True,  True,  True,\n",
       "        True,  True,  True,  True,  True,  True,  True,  True,  True,\n",
       "        True,  True,  True,  True,  True,  True,  True,  True,  True,\n",
       "        True,  True,  True,  True,  True,  True,  True,  True,  True,\n",
       "        True,  True,  True,  True,  True,  True,  True,  True,  True,\n",
       "        True,  True,  True,  True,  True,  True,  True,  True,  True,\n",
       "        True,  True,  True,  True,  True,  True,  True,  True,  True,\n",
       "        True,  True,  True,  True,  True,  True,  True,  True,  True,\n",
       "        True,  True,  True,  True,  True,  True,  True,  True,  True,\n",
       "        True,  True,  True,  True,  True,  True,  True,  True,  True,\n",
       "        True,  True,  True,  True,  True,  True,  True,  True,  True,\n",
       "        True,  True,  True,  True,  True,  True,  True,  True,  True,\n",
       "        True,  True,  True,  True,  True,  True,  True,  True,  True,\n",
       "        True,  True,  True,  True,  True,  True,  True,  True,  True,\n",
       "        True,  True,  True,  True,  True,  True,  True,  True,  True,\n",
       "        True,  True,  True,  True,  True,  True,  True,  True,  True,\n",
       "        True,  True,  True,  True,  True,  True,  True,  True,  True,\n",
       "        True,  True,  True,  True,  True,  True,  True,  True,  True,\n",
       "        True,  True,  True,  True,  True,  True,  True,  True,  True,\n",
       "        True,  True,  True,  True,  True,  True,  True,  True,  True,\n",
       "        True,  True,  True,  True,  True,  True,  True,  True,  True,\n",
       "        True,  True,  True,  True,  True,  True,  True,  True,  True,\n",
       "        True,  True,  True,  True,  True,  True,  True,  True,  True,\n",
       "        True,  True,  True,  True,  True,  True,  True,  True,  True,\n",
       "        True,  True,  True,  True,  True,  True,  True,  True,  True,\n",
       "        True,  True,  True,  True,  True,  True,  True,  True,  True,\n",
       "        True,  True,  True,  True,  True,  True,  True,  True,  True,\n",
       "        True,  True,  True,  True,  True,  True,  True,  True,  True,\n",
       "        True,  True,  True,  True,  True,  True,  True,  True,  True,\n",
       "        True,  True,  True,  True,  True,  True,  True,  True,  True,\n",
       "        True,  True,  True,  True,  True,  True,  True,  True,  True,\n",
       "        True,  True,  True,  True,  True,  True,  True,  True,  True,\n",
       "        True,  True,  True,  True,  True,  True,  True,  True,  True,\n",
       "        True,  True,  True,  True,  True,  True,  True,  True,  True,\n",
       "        True,  True,  True,  True,  True,  True,  True,  True,  True,\n",
       "        True,  True,  True,  True,  True,  True,  True,  True,  True,\n",
       "        True,  True,  True,  True,  True,  True,  True,  True,  True,\n",
       "        True,  True,  True,  True,  True,  True,  True,  True,  True,\n",
       "        True,  True,  True,  True,  True,  True,  True,  True,  True,\n",
       "        True,  True,  True,  True,  True,  True,  True,  True,  True,\n",
       "        True,  True,  True,  True,  True,  True,  True,  True,  True,\n",
       "        True,  True,  True,  True,  True,  True,  True,  True,  True,\n",
       "        True,  True,  True,  True,  True,  True,  True,  True,  True,\n",
       "        True,  True,  True,  True,  True,  True,  True,  True,  True,\n",
       "        True,  True,  True,  True,  True,  True,  True,  True,  True,\n",
       "        True,  True,  True,  True,  True,  True,  True,  True,  True,\n",
       "        True,  True,  True,  True,  True,  True,  True,  True,  True,\n",
       "        True,  True,  True,  True,  True,  True,  True,  True,  True,\n",
       "        True,  True,  True,  True,  True,  True,  True,  True,  True,\n",
       "        True,  True,  True,  True,  True,  True,  True,  True,  True,\n",
       "        True,  True,  True,  True,  True,  True,  True,  True,  True,\n",
       "        True,  True,  True,  True,  True,  True,  True,  True,  True,\n",
       "        True,  True,  True,  True,  True,  True,  True,  True,  True,\n",
       "        True,  True,  True,  True,  True,  True,  True,  True,  True,\n",
       "        True,  True,  True,  True,  True,  True,  True,  True,  True,\n",
       "        True,  True,  True,  True,  True,  True,  True,  True,  True,\n",
       "        True,  True,  True,  True,  True,  True,  True,  True,  True,\n",
       "        True,  True,  True,  True,  True,  True,  True,  True,  True,\n",
       "        True,  True,  True,  True,  True,  True,  True,  True,  True,\n",
       "        True,  True,  True,  True,  True,  True,  True,  True,  True,\n",
       "        True,  True,  True,  True,  True,  True,  True,  True,  True,\n",
       "        True,  True,  True,  True,  True,  True,  True,  True,  True,\n",
       "        True,  True,  True,  True,  True,  True,  True,  True,  True,\n",
       "        True,  True,  True,  True,  True,  True,  True,  True,  True,\n",
       "        True,  True,  True,  True,  True,  True,  True,  True,  True,\n",
       "        True,  True,  True,  True,  True,  True,  True,  True,  True,\n",
       "        True,  True,  True,  True,  True,  True,  True,  True,  True,\n",
       "        True,  True,  True,  True,  True,  True,  True,  True,  True,\n",
       "        True,  True,  True,  True,  True,  True,  True,  True,  True,\n",
       "        True,  True,  True,  True,  True,  True,  True,  True,  True,\n",
       "        True,  True,  True,  True,  True,  True,  True,  True,  True,\n",
       "        True,  True,  True,  True,  True,  True,  True,  True,  True,\n",
       "        True,  True,  True,  True,  True,  True,  True,  True,  True,\n",
       "        True,  True,  True,  True,  True,  True,  True,  True,  True,\n",
       "        True,  True,  True,  True,  True,  True,  True,  True,  True,\n",
       "        True,  True,  True,  True,  True,  True,  True,  True,  True,\n",
       "        True,  True,  True,  True,  True,  True,  True,  True,  True,\n",
       "        True,  True,  True,  True,  True,  True,  True,  True,  True,\n",
       "        True,  True,  True,  True,  True,  True,  True,  True,  True,\n",
       "        True,  True,  True,  True,  True,  True,  True,  True,  True,\n",
       "        True,  True,  True,  True,  True,  True,  True,  True,  True,\n",
       "        True,  True,  True,  True,  True,  True,  True,  True,  True,\n",
       "        True,  True,  True,  True,  True,  True,  True,  True,  True,\n",
       "        True,  True,  True,  True,  True,  True,  True,  True,  True,\n",
       "        True,  True,  True,  True,  True,  True,  True,  True,  True,\n",
       "        True,  True,  True,  True,  True,  True,  True,  True,  True,\n",
       "        True,  True,  True,  True,  True,  True,  True,  True,  True,\n",
       "        True,  True,  True,  True,  True,  True,  True,  True,  True,\n",
       "        True,  True])"
      ]
     },
     "execution_count": 27,
     "metadata": {},
     "output_type": "execute_result"
    }
   ],
   "source": [
    "train_mask"
   ]
  },
  {
   "cell_type": "code",
   "execution_count": 29,
   "id": "28ef6fb9",
   "metadata": {},
   "outputs": [],
   "source": [
    "X_train, X_test = X[train_mask], X[test_mask]\n",
    "S_train, S_test = site[train_mask], site[test_mask]\n",
    "y_train, y_test = y[train_mask], y[test_mask]"
   ]
  },
  {
   "cell_type": "code",
   "execution_count": 30,
   "id": "0d78f89d",
   "metadata": {},
   "outputs": [
    {
     "data": {
      "text/plain": [
       "842"
      ]
     },
     "execution_count": 30,
     "metadata": {},
     "output_type": "execute_result"
    }
   ],
   "source": [
    "X_train.shape[0]"
   ]
  },
  {
   "cell_type": "code",
   "execution_count": 31,
   "id": "c7bc5e6b",
   "metadata": {},
   "outputs": [
    {
     "data": {
      "text/plain": [
       "42"
      ]
     },
     "execution_count": 31,
     "metadata": {},
     "output_type": "execute_result"
    }
   ],
   "source": [
    "X_test.shape[0]"
   ]
  },
  {
   "cell_type": "code",
   "execution_count": 32,
   "id": "c7cee682",
   "metadata": {},
   "outputs": [
    {
     "name": "stdout",
     "output_type": "stream",
     "text": [
      "Best LinearSVM Classifier: LinearSVC(C=100, dual='auto', max_iter=8000)\n",
      "Best Hyperparameters: {'C': 100}\n",
      "Mean Cross-Validated Score: 0.9621070958027479 for Hyperparameters: {'C': 0.1}\n",
      "Mean Cross-Validated Score: 0.9766306157610506 for Hyperparameters: {'C': 0.2}\n",
      "Mean Cross-Validated Score: 0.9777128668433017 for Hyperparameters: {'C': 0.3}\n",
      "Mean Cross-Validated Score: 0.9802936194240542 for Hyperparameters: {'C': 0.4}\n",
      "Mean Cross-Validated Score: 0.9802936194240542 for Hyperparameters: {'C': 0.5}\n",
      "Mean Cross-Validated Score: 0.9802936194240542 for Hyperparameters: {'C': 0.6}\n",
      "Mean Cross-Validated Score: 0.9815923207227556 for Hyperparameters: {'C': 0.7}\n",
      "Mean Cross-Validated Score: 0.9815923207227556 for Hyperparameters: {'C': 0.8}\n",
      "Mean Cross-Validated Score: 0.9828910220214568 for Hyperparameters: {'C': 0.9}\n",
      "Mean Cross-Validated Score: 0.9839779785431959 for Hyperparameters: {'C': 1}\n",
      "Mean Cross-Validated Score: 0.9841730733035081 for Hyperparameters: {'C': 10}\n",
      "Mean Cross-Validated Score: 0.9854717746022095 for Hyperparameters: {'C': 100}\n"
     ]
    }
   ],
   "source": [
    "param_grid = {'C': [0.1, 0.2, 0.3, 0.4, 0.5, 0.6, 0.7, 0.8, 0.9, 1, 10, 100]}\n",
    "cv = StratifiedKFold(5, shuffle=True, random_state=123)\n",
    "grid_search = GridSearchCV(linear_svm_classifier, param_grid, cv=cv, scoring='balanced_accuracy')\n",
    "grid_search.fit(X_train, y_train)\n",
    "\n",
    "best_linear_svm_classifier = grid_search.best_estimator_\n",
    "best_params = grid_search.best_params_\n",
    "\n",
    "\n",
    "print(f\"Best LinearSVM Classifier: {best_linear_svm_classifier}\")\n",
    "print(f\"Best Hyperparameters: {best_params}\")\n",
    "\n",
    "cv_results = grid_search.cv_results_\n",
    "for mean_score, params in zip(cv_results['mean_test_score'], cv_results['params']):\n",
    "    print(f\"Mean Cross-Validated Score: {mean_score} for Hyperparameters: {params}\")"
   ]
  },
  {
   "cell_type": "code",
   "execution_count": 33,
   "id": "f0bf0201",
   "metadata": {},
   "outputs": [
    {
     "name": "stdout",
     "output_type": "stream",
     "text": [
      "Test accuracy: 1.0\n"
     ]
    }
   ],
   "source": [
    "accuracy = best_linear_svm_classifier.score(X_test, y_test)\n",
    "print(f\"Test accuracy: {accuracy}\")"
   ]
  },
  {
   "cell_type": "code",
   "execution_count": 40,
   "id": "07b4ca11",
   "metadata": {},
   "outputs": [],
   "source": [
    "train_sites, test_sites = train_test_split(unique_sites, test_size=2)\n",
    "train_mask = np.isin(site, train_sites)\n",
    "test_mask = np.isin(site, test_sites)"
   ]
  },
  {
   "cell_type": "code",
   "execution_count": 41,
   "id": "0753d1ab",
   "metadata": {},
   "outputs": [
    {
     "data": {
      "text/plain": [
       "array([ True,  True,  True,  True,  True,  True,  True,  True,  True,\n",
       "        True,  True,  True,  True,  True,  True,  True,  True,  True,\n",
       "        True,  True,  True,  True,  True,  True,  True,  True,  True,\n",
       "        True,  True,  True,  True,  True,  True,  True,  True,  True,\n",
       "        True,  True,  True,  True,  True,  True,  True,  True,  True,\n",
       "        True,  True,  True,  True,  True,  True,  True,  True,  True,\n",
       "        True,  True,  True,  True,  True,  True,  True,  True,  True,\n",
       "        True,  True,  True,  True,  True,  True,  True,  True,  True,\n",
       "        True,  True,  True,  True,  True,  True,  True,  True,  True,\n",
       "        True,  True,  True,  True,  True,  True,  True,  True,  True,\n",
       "        True,  True,  True,  True,  True,  True,  True,  True,  True,\n",
       "        True,  True,  True,  True,  True,  True,  True,  True,  True,\n",
       "        True,  True,  True,  True,  True,  True,  True,  True,  True,\n",
       "        True,  True,  True,  True,  True,  True,  True,  True,  True,\n",
       "        True,  True,  True,  True,  True,  True,  True,  True,  True,\n",
       "        True,  True,  True,  True,  True,  True,  True,  True,  True,\n",
       "        True,  True,  True,  True,  True,  True,  True,  True,  True,\n",
       "        True,  True,  True,  True,  True,  True,  True,  True,  True,\n",
       "        True,  True,  True,  True,  True,  True,  True,  True,  True,\n",
       "        True,  True,  True,  True,  True,  True,  True,  True,  True,\n",
       "        True,  True,  True,  True,  True,  True,  True,  True,  True,\n",
       "        True,  True,  True,  True,  True,  True,  True,  True,  True,\n",
       "        True,  True,  True,  True,  True,  True,  True,  True,  True,\n",
       "        True,  True,  True,  True,  True,  True,  True,  True,  True,\n",
       "        True,  True,  True,  True,  True,  True,  True,  True,  True,\n",
       "        True,  True,  True,  True,  True,  True,  True,  True,  True,\n",
       "        True,  True,  True,  True,  True,  True,  True,  True,  True,\n",
       "        True,  True,  True,  True,  True,  True,  True,  True,  True,\n",
       "        True,  True,  True,  True,  True,  True,  True,  True,  True,\n",
       "        True,  True,  True,  True,  True,  True,  True,  True,  True,\n",
       "        True,  True,  True,  True,  True,  True,  True,  True,  True,\n",
       "        True,  True,  True,  True,  True,  True,  True,  True,  True,\n",
       "        True,  True,  True,  True,  True,  True,  True,  True,  True,\n",
       "        True,  True,  True,  True,  True,  True,  True,  True,  True,\n",
       "        True,  True,  True,  True,  True,  True,  True,  True,  True,\n",
       "        True,  True,  True,  True,  True,  True,  True,  True,  True,\n",
       "        True,  True,  True,  True,  True,  True,  True,  True,  True,\n",
       "        True,  True,  True,  True,  True,  True,  True,  True,  True,\n",
       "        True,  True,  True,  True,  True,  True,  True,  True,  True,\n",
       "        True,  True,  True,  True,  True,  True,  True,  True,  True,\n",
       "        True,  True,  True,  True,  True,  True,  True,  True,  True,\n",
       "        True,  True,  True,  True,  True,  True,  True,  True,  True,\n",
       "        True,  True,  True,  True,  True,  True,  True,  True,  True,\n",
       "        True,  True,  True,  True,  True,  True,  True,  True,  True,\n",
       "        True,  True,  True,  True,  True,  True,  True,  True,  True,\n",
       "        True,  True,  True,  True,  True,  True,  True,  True,  True,\n",
       "        True,  True,  True,  True,  True,  True,  True,  True,  True,\n",
       "        True,  True,  True,  True,  True,  True,  True,  True,  True,\n",
       "        True,  True,  True,  True,  True,  True,  True,  True,  True,\n",
       "        True,  True,  True,  True,  True,  True,  True,  True,  True,\n",
       "        True,  True,  True,  True,  True,  True,  True,  True,  True,\n",
       "        True,  True,  True,  True,  True,  True,  True,  True,  True,\n",
       "        True,  True,  True,  True,  True,  True,  True,  True,  True,\n",
       "        True,  True,  True,  True,  True,  True,  True,  True,  True,\n",
       "        True,  True,  True,  True,  True,  True,  True,  True,  True,\n",
       "        True,  True,  True,  True,  True,  True,  True,  True,  True,\n",
       "        True,  True,  True, False, False, False, False, False, False,\n",
       "       False, False, False, False, False, False, False, False, False,\n",
       "       False, False, False, False, False, False, False, False, False,\n",
       "       False, False, False, False, False, False, False, False, False,\n",
       "       False, False, False,  True,  True,  True,  True,  True,  True,\n",
       "        True,  True,  True,  True,  True,  True,  True,  True,  True,\n",
       "        True,  True,  True,  True,  True,  True,  True,  True,  True,\n",
       "        True,  True,  True,  True,  True,  True,  True,  True,  True,\n",
       "        True,  True,  True,  True,  True,  True,  True,  True,  True,\n",
       "        True,  True, False, False, False, False, False, False, False,\n",
       "       False, False, False, False, False, False, False, False, False,\n",
       "       False, False, False, False, False, False, False, False, False,\n",
       "       False, False, False, False, False, False, False, False, False,\n",
       "       False, False, False, False, False, False, False, False, False,\n",
       "       False, False, False, False, False, False, False, False, False,\n",
       "       False, False, False, False, False, False, False, False, False,\n",
       "       False, False, False, False, False, False, False, False, False,\n",
       "       False, False, False, False, False,  True,  True,  True,  True,\n",
       "        True,  True,  True,  True,  True,  True,  True,  True,  True,\n",
       "        True,  True,  True,  True,  True,  True,  True,  True,  True,\n",
       "        True,  True,  True,  True,  True,  True,  True,  True,  True,\n",
       "        True,  True,  True,  True,  True,  True,  True,  True,  True,\n",
       "        True,  True,  True,  True,  True,  True,  True,  True,  True,\n",
       "        True,  True,  True,  True,  True,  True,  True,  True,  True,\n",
       "        True,  True,  True,  True,  True,  True,  True,  True,  True,\n",
       "        True,  True,  True,  True,  True,  True,  True,  True,  True,\n",
       "        True,  True,  True,  True,  True,  True,  True,  True,  True,\n",
       "        True,  True,  True,  True,  True,  True,  True,  True,  True,\n",
       "        True,  True,  True,  True,  True,  True,  True,  True,  True,\n",
       "        True,  True,  True,  True,  True,  True,  True,  True,  True,\n",
       "        True,  True,  True,  True,  True,  True,  True,  True,  True,\n",
       "        True,  True,  True,  True,  True,  True,  True,  True,  True,\n",
       "        True,  True,  True,  True,  True,  True,  True,  True,  True,\n",
       "        True,  True,  True,  True,  True,  True,  True,  True,  True,\n",
       "        True,  True,  True,  True,  True,  True,  True,  True,  True,\n",
       "        True,  True,  True,  True,  True,  True,  True,  True,  True,\n",
       "        True,  True,  True,  True,  True,  True,  True,  True,  True,\n",
       "        True,  True,  True,  True,  True,  True,  True,  True,  True,\n",
       "        True,  True,  True,  True,  True,  True,  True,  True,  True,\n",
       "        True,  True,  True,  True,  True,  True,  True,  True,  True,\n",
       "        True,  True,  True,  True,  True,  True,  True,  True,  True,\n",
       "        True,  True,  True,  True,  True,  True,  True,  True,  True,\n",
       "        True,  True])"
      ]
     },
     "execution_count": 41,
     "metadata": {},
     "output_type": "execute_result"
    }
   ],
   "source": [
    "train_mask"
   ]
  },
  {
   "cell_type": "code",
   "execution_count": 46,
   "id": "7de0d3ce",
   "metadata": {},
   "outputs": [
    {
     "name": "stdout",
     "output_type": "stream",
     "text": [
      "Test sites:  ['Stanford' 'UCLA']\n"
     ]
    }
   ],
   "source": [
    "X_train, X_test = X[train_mask], X[test_mask]\n",
    "S_train, S_test = site[train_mask], site[test_mask]\n",
    "y_train, y_test = y[train_mask], y[test_mask]\n",
    "\n",
    "print('Test sites: ', np.unique(S_test))"
   ]
  },
  {
   "cell_type": "code",
   "execution_count": 47,
   "id": "43c03cfb",
   "metadata": {},
   "outputs": [
    {
     "name": "stdout",
     "output_type": "stream",
     "text": [
      "Best LinearSVM Classifier: LinearSVC(C=10, dual='auto', max_iter=8000)\n",
      "Best Hyperparameters: {'C': 10}\n",
      "Mean Cross-Validated Score: 0.9530589157434568 for Hyperparameters: {'C': 0.1}\n",
      "Mean Cross-Validated Score: 0.9641228899501426 for Hyperparameters: {'C': 0.2}\n",
      "Mean Cross-Validated Score: 0.9669397913585934 for Hyperparameters: {'C': 0.3}\n",
      "Mean Cross-Validated Score: 0.9709471689575203 for Hyperparameters: {'C': 0.4}\n",
      "Mean Cross-Validated Score: 0.9721376451479964 for Hyperparameters: {'C': 0.5}\n",
      "Mean Cross-Validated Score: 0.9721376451479964 for Hyperparameters: {'C': 0.6}\n",
      "Mean Cross-Validated Score: 0.9721376451479964 for Hyperparameters: {'C': 0.7}\n",
      "Mean Cross-Validated Score: 0.9721376451479964 for Hyperparameters: {'C': 0.8}\n",
      "Mean Cross-Validated Score: 0.9721376451479964 for Hyperparameters: {'C': 0.9}\n",
      "Mean Cross-Validated Score: 0.9721376451479964 for Hyperparameters: {'C': 1}\n",
      "Mean Cross-Validated Score: 0.9761450227469233 for Hyperparameters: {'C': 10}\n",
      "Mean Cross-Validated Score: 0.9761450227469233 for Hyperparameters: {'C': 100}\n"
     ]
    }
   ],
   "source": [
    "grid_search = GridSearchCV(linear_svm_classifier, param_grid, cv=cv, scoring='balanced_accuracy')\n",
    "grid_search.fit(X_train, y_train)\n",
    "\n",
    "best_linear_svm_classifier = grid_search.best_estimator_\n",
    "best_params = grid_search.best_params_\n",
    "\n",
    "\n",
    "print(f\"Best LinearSVM Classifier: {best_linear_svm_classifier}\")\n",
    "print(f\"Best Hyperparameters: {best_params}\")\n",
    "\n",
    "cv_results = grid_search.cv_results_\n",
    "for mean_score, params in zip(cv_results['mean_test_score'], cv_results['params']):\n",
    "    print(f\"Mean Cross-Validated Score: {mean_score} for Hyperparameters: {params}\")"
   ]
  },
  {
   "cell_type": "code",
   "execution_count": 48,
   "id": "88921b7f",
   "metadata": {},
   "outputs": [
    {
     "name": "stdout",
     "output_type": "stream",
     "text": [
      "Test accuracy: 1.0\n"
     ]
    }
   ],
   "source": [
    "accuracy = best_linear_svm_classifier.score(X_test, y_test)\n",
    "print(f\"Test accuracy: {accuracy}\")"
   ]
  },
  {
   "cell_type": "code",
   "execution_count": null,
   "id": "9f75a38b",
   "metadata": {},
   "outputs": [],
   "source": []
  }
 ],
 "metadata": {
  "kernelspec": {
   "display_name": "Python 3 (ipykernel)",
   "language": "python",
   "name": "python3"
  },
  "language_info": {
   "codemirror_mode": {
    "name": "ipython",
    "version": 3
   },
   "file_extension": ".py",
   "mimetype": "text/x-python",
   "name": "python",
   "nbconvert_exporter": "python",
   "pygments_lexer": "ipython3",
   "version": "3.11.5"
  }
 },
 "nbformat": 4,
 "nbformat_minor": 5
}
